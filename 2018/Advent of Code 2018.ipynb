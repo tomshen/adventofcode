{
 "cells": [
  {
   "cell_type": "markdown",
   "metadata": {},
   "source": [
    "# Common Imports/Helpers"
   ]
  },
  {
   "cell_type": "code",
   "execution_count": 60,
   "metadata": {},
   "outputs": [],
   "source": [
    "from collections import defaultdict\n",
    "from itertools import cycle\n",
    "import re\n",
    "import string"
   ]
  },
  {
   "cell_type": "markdown",
   "metadata": {},
   "source": [
    "# Day 1"
   ]
  },
  {
   "cell_type": "code",
   "execution_count": null,
   "metadata": {},
   "outputs": [],
   "source": [
    "def day1_1():\n",
    "    resulting_frequency = 0\n",
    "    with open ('./day1/input.txt') as changes:\n",
    "        for raw_change in changes:\n",
    "            resulting_frequency += int(raw_change)\n",
    "    return resulting_frequency\n",
    "\n",
    "print(day1_1())"
   ]
  },
  {
   "cell_type": "code",
   "execution_count": null,
   "metadata": {},
   "outputs": [],
   "source": [
    "def day1_2():  \n",
    "    changes = []\n",
    "    with open ('./day1/input.txt') as raw_changes:\n",
    "        for raw_change in raw_changes:\n",
    "            changes.append(int(raw_change))\n",
    "\n",
    "    seen_frequencies = set()\n",
    "    current_frequency = 0\n",
    "    for change in cycle(changes):\n",
    "        current_frequency += change\n",
    "        if current_frequency in seen_frequencies:\n",
    "            return current_frequency\n",
    "        seen_frequencies.add(current_frequency)\n",
    "\n",
    "    return current_frequency\n",
    "\n",
    "print(day1_2())"
   ]
  },
  {
   "cell_type": "markdown",
   "metadata": {},
   "source": [
    "# Day 2"
   ]
  },
  {
   "cell_type": "code",
   "execution_count": null,
   "metadata": {},
   "outputs": [],
   "source": [
    "def day2_1():\n",
    "    double_count = 0\n",
    "    triple_count = 0\n",
    "    with open ('./day2/input.txt') as box_ids:\n",
    "        for box_id in box_ids:\n",
    "            letter_counts = [box_id.count(l) for l in string.ascii_lowercase]\n",
    "            if letter_counts.count(2) > 0:\n",
    "                double_count += 1\n",
    "            if letter_counts.count(3) > 0:\n",
    "                triple_count += 1\n",
    "    return double_count * triple_count"
   ]
  },
  {
   "cell_type": "code",
   "execution_count": null,
   "metadata": {},
   "outputs": [],
   "source": [
    "print(day2_1())"
   ]
  },
  {
   "cell_type": "code",
   "execution_count": null,
   "metadata": {},
   "outputs": [],
   "source": [
    "def day2_2():\n",
    "    box_ids_without_one_letter = set()\n",
    "    with open ('./day2/input.txt') as box_ids:\n",
    "        for raw_box_id in box_ids:\n",
    "            box_id = raw_box_id.strip()\n",
    "            for i in range(len(box_id)):\n",
    "                box_id_without_one_letter = box_id[:i] + '_' + box_id[i+1:]\n",
    "                if box_id_without_one_letter in box_ids_without_one_letter:\n",
    "                    return box_id_without_one_letter.replace('_', '')\n",
    "                box_ids_without_one_letter.add(box_id_without_one_letter)"
   ]
  },
  {
   "cell_type": "code",
   "execution_count": null,
   "metadata": {},
   "outputs": [],
   "source": [
    "print(day2_2())"
   ]
  },
  {
   "cell_type": "markdown",
   "metadata": {},
   "source": [
    "# Day 3"
   ]
  },
  {
   "cell_type": "code",
   "execution_count": null,
   "metadata": {},
   "outputs": [],
   "source": [
    "claim_regex = re.compile(r'#(\\d+) @ (\\d+),(\\d+): (\\d+)x(\\d+)')\n",
    "def parse_claim(raw_claim):\n",
    "    return tuple(int(n) for n in claim_regex.match(raw_claim).groups())\n",
    "\n",
    "def get_claims():\n",
    "    with open ('./day3/input.txt') as claims:\n",
    "        for claim in claims:\n",
    "            yield parse_claim(claim.strip())"
   ]
  },
  {
   "cell_type": "code",
   "execution_count": null,
   "metadata": {},
   "outputs": [],
   "source": [
    "def day3_1():\n",
    "    grid = [[0 for y in range(10000)] for x in range(10000)]\n",
    "    for _, x, y, width, height in get_claims():\n",
    "        for i in range(width):\n",
    "            for j in range(height):\n",
    "                grid[x+i][y+j] += 1\n",
    "\n",
    "    count = 0\n",
    "    for row in grid:\n",
    "        for cell in row:\n",
    "            if cell > 1:\n",
    "                count += 1\n",
    "\n",
    "    return count\n",
    "print(day3_1())"
   ]
  },
  {
   "cell_type": "code",
   "execution_count": null,
   "metadata": {},
   "outputs": [],
   "source": [
    "def day3_2():\n",
    "    grid = [[0 for y in range(10000)] for x in range(10000)]\n",
    "    for _, x, y, width, height in get_claims():\n",
    "        for i in range(width):\n",
    "            for j in range(height):\n",
    "                grid[x+i][y+j] += 1\n",
    "\n",
    "    for claim_id, x, y, width, height in get_claims():\n",
    "        overlaps = False\n",
    "        for i in range(width):\n",
    "            for j in range(height):\n",
    "                if grid[x+i][y+j] > 1:\n",
    "                    overlaps = True\n",
    "        if not overlaps:\n",
    "            return claim_id\n",
    "\n",
    "    return None\n",
    "print(day3_2())"
   ]
  },
  {
   "cell_type": "markdown",
   "metadata": {},
   "source": [
    "# Day 4"
   ]
  },
  {
   "cell_type": "code",
   "execution_count": null,
   "metadata": {},
   "outputs": [],
   "source": [
    "timestamp_regex = re.compile(r'\\[1518\\-(\\d\\d)\\-(\\d\\d) (\\d\\d):(\\d\\d)\\] (.+)')\n",
    "def parse_timestamp(raw_timestamp):\n",
    "    month, day, hour, minute, update = timestamp_regex.match(raw_timestamp).groups()\n",
    "    return month, day, hour, minute, update\n",
    "\n",
    "def get_updates():\n",
    "    with open ('./day4.txt') as timestamps:\n",
    "        for timestamp in timestamps:\n",
    "            yield parse_timestamp(timestamp.strip())\n",
    "\n",
    "def get_sorted_updates():\n",
    "    return sorted(get_updates())\n",
    "\n",
    "shift_begin_regex = re.compile(r'Guard #(\\d+) begins shift')\n",
    "def day4_1():\n",
    "    guards = {}\n",
    "    \n",
    "    current_guard_id = None\n",
    "    last_sleep_start = None\n",
    "    for month, day, hour, minute, update in get_sorted_updates():\n",
    "        if update == 'falls asleep':\n",
    "            last_sleep_start = (hour, minute)\n",
    "        elif update == 'wakes up':\n",
    "            start_hour, start_minute = last_sleep_start\n",
    "            if start_hour > hour:\n",
    "                for m in range(int(start_minute), 60):\n",
    "                    guards[current_guard_id][(int(start_hour), m)] += 1\n",
    "                for h in range(int(start_hour) + 1, 24):\n",
    "                    for m in range(60):\n",
    "                        guards[current_guard_id][(h, m)] += 1\n",
    "            else:\n",
    "                for m in range(int(start_minute), int(minute)):\n",
    "                    guards[current_guard_id][(0, m)] += 1\n",
    "        else:\n",
    "            current_guard_id = shift_begin_regex.match(update).group(1)\n",
    "            if current_guard_id not in guards:\n",
    "                guards[current_guard_id] = defaultdict(int)\n",
    "    \n",
    "    guard_id, sleep_counts = max(guards.items(), key=lambda x: sum(x[1].values()))\n",
    "    return int(guard_id) * max(sleep_counts.keys(), key=lambda k: sleep_counts[k])[1]\n",
    "            \n",
    "print(day4_1())"
   ]
  },
  {
   "cell_type": "code",
   "execution_count": null,
   "metadata": {},
   "outputs": [],
   "source": [
    "def day4_2():\n",
    "    guards = {}\n",
    "    \n",
    "    current_guard_id = None\n",
    "    last_sleep_start = None\n",
    "    for month, day, hour, minute, update in get_sorted_updates():\n",
    "        if update == 'falls asleep':\n",
    "            last_sleep_start = (hour, minute)\n",
    "        elif update == 'wakes up':\n",
    "            start_hour, start_minute = last_sleep_start\n",
    "            if start_hour > hour:\n",
    "                for m in range(int(start_minute), 60):\n",
    "                    guards[current_guard_id][(int(start_hour), m)] += 1\n",
    "                for h in range(int(start_hour) + 1, 24):\n",
    "                    for m in range(60):\n",
    "                        guards[current_guard_id][(h, m)] += 1\n",
    "            else:\n",
    "                for m in range(int(start_minute), int(minute)):\n",
    "                    guards[current_guard_id][(0, m)] += 1\n",
    "        else:\n",
    "            current_guard_id = shift_begin_regex.match(update).group(1)\n",
    "            if current_guard_id not in guards:\n",
    "                guards[current_guard_id] = defaultdict(int)\n",
    "    guard_id, sleep_counts = max(guards.items(), key=lambda x: max(list(x[1].values()) + [0]))\n",
    "    return int(guard_id) * max(sleep_counts.keys(), key=lambda k: sleep_counts[k])[1]\n",
    "print(day4_2())"
   ]
  },
  {
   "cell_type": "markdown",
   "metadata": {},
   "source": [
    "# Day 5"
   ]
  },
  {
   "cell_type": "code",
   "execution_count": null,
   "metadata": {},
   "outputs": [],
   "source": [
    "def get_polymer():\n",
    "    with open ('./day5.txt') as polymer:\n",
    "        return polymer.read().strip()"
   ]
  },
  {
   "cell_type": "code",
   "execution_count": null,
   "metadata": {},
   "outputs": [],
   "source": [
    "def react_polymer(p):\n",
    "    while True:\n",
    "        hasReacted = False\n",
    "        for i in range(len(p)-1):\n",
    "            a, b = p[i], p[i+1]\n",
    "            if abs(ord(a) - ord(b)) == 32:\n",
    "                hasReacted = True\n",
    "                p = p[:i] + p[i+2:]\n",
    "                break\n",
    "        if not hasReacted:\n",
    "            break\n",
    "    return p"
   ]
  },
  {
   "cell_type": "code",
   "execution_count": null,
   "metadata": {},
   "outputs": [],
   "source": [
    "react_polymer(get_polymer())"
   ]
  },
  {
   "cell_type": "code",
   "execution_count": null,
   "metadata": {},
   "outputs": [],
   "source": [
    "def strip_polymer(p, l):\n",
    "    return p.replace(l.upper(), '').replace(l.lower(), '')"
   ]
  },
  {
   "cell_type": "code",
   "execution_count": null,
   "metadata": {},
   "outputs": [],
   "source": [
    "strip_polymer('dabAcCaCBAcCcaDA', 'a')"
   ]
  },
  {
   "cell_type": "code",
   "execution_count": null,
   "metadata": {},
   "outputs": [],
   "source": [
    "def get_shortest_polymer():\n",
    "    stable = react_polymer(get_polymer())\n",
    "    for l in string.ascii_lowercase:\n",
    "        print(l, len(react_polymer(strip_polymer(stable, l))))\n"
   ]
  },
  {
   "cell_type": "code",
   "execution_count": null,
   "metadata": {},
   "outputs": [],
   "source": [
    "get_shortest_polymer()"
   ]
  },
  {
   "cell_type": "markdown",
   "metadata": {},
   "source": [
    "# Day 7"
   ]
  },
  {
   "cell_type": "code",
   "execution_count": 94,
   "metadata": {},
   "outputs": [],
   "source": [
    "def get_graph():\n",
    "    G = dict()\n",
    "    for l in string.ascii_uppercase:\n",
    "        G[l] = set()\n",
    "    er = re.compile(r'Step ([A-Z]) must be finished before step ([A-Z]) can begin.')\n",
    "    with open('day7.txt') as raw_edges:\n",
    "        for e in raw_edges:\n",
    "            u, v = er.match(e).groups()\n",
    "            G[v].add(u)\n",
    "    return G"
   ]
  },
  {
   "cell_type": "code",
   "execution_count": 105,
   "metadata": {},
   "outputs": [],
   "source": [
    "def day7_1():\n",
    "    G = get_graph()\n",
    "    done_steps = []\n",
    "    while len(done_steps) < 26:\n",
    "        for l in string.ascii_uppercase:\n",
    "            if l in done_steps:\n",
    "                continue\n",
    "            if len(G[l] - set(done_steps)) == 0:\n",
    "                done_steps.append(l)\n",
    "                break\n",
    "    print(''.join(done_steps))"
   ]
  },
  {
   "cell_type": "code",
   "execution_count": 106,
   "metadata": {},
   "outputs": [
    {
     "name": "stdout",
     "output_type": "stream",
     "text": [
      "BGKDMJCNEQRSTUZWHYLPAFIVXO\n"
     ]
    }
   ],
   "source": [
    "day7_1()"
   ]
  },
  {
   "cell_type": "code",
   "execution_count": null,
   "metadata": {},
   "outputs": [],
   "source": [
    "def day7_2():\n",
    "    G = get_graph()\n",
    "    done_steps = []\n",
    "    worker_progress = [0, 0, 0, 0, 0]\n",
    "    while len(done_steps) < 26:\n",
    "        for l in string.ascii_uppercase:\n",
    "            if l in done_steps:\n",
    "                continue\n",
    "            if len(G[l] - set(done_steps)) == 0:\n",
    "                done_steps.append(l)\n",
    "                break\n",
    "    print(''.join(done_steps))"
   ]
  }
 ],
 "metadata": {
  "kernelspec": {
   "display_name": "Python 3",
   "language": "python",
   "name": "python3"
  },
  "language_info": {
   "codemirror_mode": {
    "name": "ipython",
    "version": 3
   },
   "file_extension": ".py",
   "mimetype": "text/x-python",
   "name": "python",
   "nbconvert_exporter": "python",
   "pygments_lexer": "ipython3",
   "version": "3.7.1"
  }
 },
 "nbformat": 4,
 "nbformat_minor": 2
}
