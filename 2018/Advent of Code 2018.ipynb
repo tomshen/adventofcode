{
 "cells": [
  {
   "cell_type": "markdown",
   "metadata": {},
   "source": [
    "# Common Imports/Helpers"
   ]
  },
  {
   "cell_type": "code",
   "execution_count": null,
   "metadata": {},
   "outputs": [],
   "source": [
    "from itertools import cycle\n",
    "import string"
   ]
  },
  {
   "cell_type": "markdown",
   "metadata": {},
   "source": [
    "# Day 1"
   ]
  },
  {
   "cell_type": "code",
   "execution_count": null,
   "metadata": {},
   "outputs": [],
   "source": [
    "def day1_1():\n",
    "    resulting_frequency = 0\n",
    "    with open ('./day1/input.txt') as changes:\n",
    "        for raw_change in changes:\n",
    "            resulting_frequency += int(raw_change)\n",
    "    return resulting_frequency\n",
    "\n",
    "print(day1_1())"
   ]
  },
  {
   "cell_type": "code",
   "execution_count": null,
   "metadata": {},
   "outputs": [],
   "source": [
    "def day1_2():  \n",
    "    changes = []\n",
    "    with open ('./day1/input.txt') as raw_changes:\n",
    "        for raw_change in raw_changes:\n",
    "            changes.append(int(raw_change))\n",
    "\n",
    "    seen_frequencies = set()\n",
    "    current_frequency = 0\n",
    "    for change in cycle(changes):\n",
    "        current_frequency += change\n",
    "        if current_frequency in seen_frequencies:\n",
    "            return current_frequency\n",
    "        seen_frequencies.add(current_frequency)\n",
    "\n",
    "    return current_frequency\n",
    "\n",
    "print(day1_2())"
   ]
  },
  {
   "cell_type": "markdown",
   "metadata": {},
   "source": [
    "# Day 2"
   ]
  },
  {
   "cell_type": "code",
   "execution_count": null,
   "metadata": {},
   "outputs": [],
   "source": [
    "def day2_1():\n",
    "    double_count = 0\n",
    "    triple_count = 0\n",
    "    with open ('./day2/input.txt') as box_ids:\n",
    "        for box_id in box_ids:\n",
    "            letter_counts = [box_id.count(l) for l in string.ascii_lowercase]\n",
    "            if letter_counts.count(2) > 0:\n",
    "                double_count += 1\n",
    "            if letter_counts.count(3) > 0:\n",
    "                triple_count += 1\n",
    "    return double_count * triple_count"
   ]
  },
  {
   "cell_type": "code",
   "execution_count": null,
   "metadata": {},
   "outputs": [],
   "source": [
    "print(day2_1())"
   ]
  },
  {
   "cell_type": "code",
   "execution_count": null,
   "metadata": {},
   "outputs": [],
   "source": [
    "def day2_2():\n",
    "    box_ids_without_one_letter = set()\n",
    "    with open ('./day2/input.txt') as box_ids:\n",
    "        for raw_box_id in box_ids:\n",
    "            box_id = raw_box_id.strip()\n",
    "            for i in range(len(box_id)):\n",
    "                box_id_without_one_letter = box_id[:i] + '_' + box_id[i+1:]\n",
    "                if box_id_without_one_letter in box_ids_without_one_letter:\n",
    "                    return box_id_without_one_letter.replace('_', '')\n",
    "                box_ids_without_one_letter.add(box_id_without_one_letter)"
   ]
  },
  {
   "cell_type": "code",
   "execution_count": null,
   "metadata": {},
   "outputs": [],
   "source": [
    "print(day2_2())"
   ]
  }
 ],
 "metadata": {
  "kernelspec": {
   "display_name": "Python 3",
   "language": "python",
   "name": "python3"
  },
  "language_info": {
   "codemirror_mode": {
    "name": "ipython",
    "version": 3
   },
   "file_extension": ".py",
   "mimetype": "text/x-python",
   "name": "python",
   "nbconvert_exporter": "python",
   "pygments_lexer": "ipython3",
   "version": "3.7.1"
  }
 },
 "nbformat": 4,
 "nbformat_minor": 2
}
