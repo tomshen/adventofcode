{
 "cells": [
  {
   "cell_type": "markdown",
   "metadata": {},
   "source": [
    "# Day 1"
   ]
  },
  {
   "cell_type": "code",
   "execution_count": 12,
   "metadata": {},
   "outputs": [
    {
     "name": "stdout",
     "output_type": "stream",
     "text": [
      "406\n"
     ]
    }
   ],
   "source": [
    "def day1_1():\n",
    "    resulting_frequency = 0\n",
    "    with open ('./day1/input.txt') as changes:\n",
    "        for raw_change in changes:\n",
    "            resulting_frequency += int(raw_change)\n",
    "    return resulting_frequency\n",
    "print(day1_1())"
   ]
  },
  {
   "cell_type": "code",
   "execution_count": 15,
   "metadata": {},
   "outputs": [
    {
     "name": "stdout",
     "output_type": "stream",
     "text": [
      "312\n"
     ]
    }
   ],
   "source": [
    "def day1_2():\n",
    "    from itertools import cycle\n",
    "    changes = []\n",
    "    with open ('./day1/input.txt') as raw_changes:\n",
    "        for raw_change in raw_changes:\n",
    "            changes.append(int(raw_change))\n",
    "\n",
    "    seen_frequencies = set([])\n",
    "    current_frequency = 0\n",
    "    for change in cycle(changes):\n",
    "        current_frequency += change\n",
    "        if current_frequency in seen_frequencies:\n",
    "            return current_frequency\n",
    "        seen_frequencies.add(current_frequency)\n",
    "    return current_frequency\n",
    "\n",
    "print(day1_2())\n"
   ]
  },
  {
   "cell_type": "code",
   "execution_count": null,
   "metadata": {},
   "outputs": [],
   "source": []
  }
 ],
 "metadata": {
  "kernelspec": {
   "display_name": "Python 3",
   "language": "python",
   "name": "python3"
  },
  "language_info": {
   "codemirror_mode": {
    "name": "ipython",
    "version": 3
   },
   "file_extension": ".py",
   "mimetype": "text/x-python",
   "name": "python",
   "nbconvert_exporter": "python",
   "pygments_lexer": "ipython3",
   "version": "3.7.1"
  }
 },
 "nbformat": 4,
 "nbformat_minor": 2
}
